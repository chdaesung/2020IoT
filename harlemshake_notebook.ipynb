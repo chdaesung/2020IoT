{
 "cells": [
  {
   "cell_type": "markdown",
   "metadata": {},
   "source": [
    "### Please run the following cell once.\n",
    "\n",
    "This will install the Apache Bahir connector within your Project/Apache Spark service. If you restart the kernel or start a new notebook in the same project you can use Apache Bahir for connecting to the Cloudant/Apache CouchDB service. Please note that this will install a patched version of the connector (since the pull request hasn't been merged with the trunk yet).\n",
    "\n",
    "You'll find more information on the patch here:\n",
    "\n",
    "https://github.com/apache/bahir/pull/49 https://issues.apache.org/jira/browse/BAHIR-130\n"
   ]
  },
  {
   "cell_type": "code",
   "execution_count": 1,
   "metadata": {},
   "outputs": [
    {
     "name": "stdout",
     "output_type": "stream",
     "text": [
      "Requirement already satisfied: cloudant in /opt/conda/envs/Python-3.7-main/lib/python3.7/site-packages (2.14.0)\r\n",
      "Requirement already satisfied: requests<3.0.0,>=2.7.0 in /opt/conda/envs/Python-3.7-main/lib/python3.7/site-packages (from cloudant) (2.24.0)\r\n",
      "Requirement already satisfied: chardet<4,>=3.0.2 in /opt/conda/envs/Python-3.7-main/lib/python3.7/site-packages (from requests<3.0.0,>=2.7.0->cloudant) (3.0.4)\r\n",
      "Requirement already satisfied: idna<3,>=2.5 in /opt/conda/envs/Python-3.7-main/lib/python3.7/site-packages (from requests<3.0.0,>=2.7.0->cloudant) (2.9)\r\n",
      "Requirement already satisfied: urllib3!=1.25.0,!=1.25.1,<1.26,>=1.21.1 in /opt/conda/envs/Python-3.7-main/lib/python3.7/site-packages (from requests<3.0.0,>=2.7.0->cloudant) (1.25.9)\r\n",
      "Requirement already satisfied: certifi>=2017.4.17 in /opt/conda/envs/Python-3.7-main/lib/python3.7/site-packages (from requests<3.0.0,>=2.7.0->cloudant) (2020.11.8)\r\n"
     ]
    }
   ],
   "source": [
    "!pip install cloudant"
   ]
  },
  {
   "cell_type": "code",
   "execution_count": 2,
   "metadata": {},
   "outputs": [],
   "source": [
    "#PLEASE INSERT TO CREDENTIALS TO CLOUDANT HERE USING THE IBM WATSON STUDIO CONNECTIONS TAB RIGHT TO THIS NOTEBOOK\n"
   ]
  },
  {
   "cell_type": "code",
   "execution_count": 4,
   "metadata": {},
   "outputs": [],
   "source": [
    "from cloudant.client import Cloudant\n",
    "from cloudant.error import CloudantException\n",
    "from cloudant.result import Result, ResultByKey\n",
    "\n",
    "serviceUsername= credentials_1['username']\n",
    "servicePassword= credentials_1['password']\n",
    "serviceURL=credentials_1['custom_url']\n",
    "cloudantName='harlemshake'\n",
    "\n",
    "client = Cloudant(serviceUsername, servicePassword, url=serviceURL)\n",
    "client.connect()"
   ]
  },
  {
   "cell_type": "code",
   "execution_count": 5,
   "metadata": {},
   "outputs": [],
   "source": [
    "df=client[cloudantName]\n",
    "\n",
    "#for doc in df:\n",
    "#    print(doc)"
   ]
  },
  {
   "cell_type": "code",
   "execution_count": 6,
   "metadata": {},
   "outputs": [
    {
     "name": "stdout",
     "output_type": "stream",
     "text": [
      "[('daesung', 151.04032838947356)]\n"
     ]
    }
   ],
   "source": [
    "from numpy.lib.scimath import sqrt\n",
    "from pprint import pprint as pp\n",
    "\n",
    "\n",
    "energy=dict()\n",
    "\n",
    "# select sqrt(sum(X*X)+sum(Y*Y)+sum(Z*Z)) as energy, SENSORID from data group by SENSORID order by energy desc\n",
    "for doc in df:\n",
    "    e=(doc['X']*doc['X'])+(doc['Y']*doc['Y'])+(doc['Z']*doc['Z'])\n",
    "    if(doc['SENSORID'] not in energy):\n",
    "        energy.update({doc['SENSORID']:e})\n",
    "    else:\n",
    "        energy.update({doc['SENSORID']:e+energy[doc['SENSORID']]})\n",
    "\n",
    "for key, val in energy.items():\n",
    "    energy.update({key:sqrt(val)})\n",
    "    \n",
    "res=sorted(energy.items(),key=(lambda x:x[1]),reverse=True)\n",
    "\n",
    "pp(res)"
   ]
  },
  {
   "cell_type": "markdown",
   "metadata": {},
   "source": [
    "## 위의 숫자가 스마트폰의 운동 에너지의 최대값($\\sqrt{X^{2}+Y^{2}+Z^{2}}$)입니다."
   ]
  }
 ],
 "metadata": {
  "kernelspec": {
   "display_name": "Python 3.7",
   "language": "python",
   "name": "python3"
  },
  "language_info": {
   "codemirror_mode": {
    "name": "ipython",
    "version": 3
   },
   "file_extension": ".py",
   "mimetype": "text/x-python",
   "name": "python",
   "nbconvert_exporter": "python",
   "pygments_lexer": "ipython3",
   "version": "3.7.9"
  }
 },
 "nbformat": 4,
 "nbformat_minor": 1
}
